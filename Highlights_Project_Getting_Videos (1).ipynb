{
  "nbformat": 4,
  "nbformat_minor": 0,
  "metadata": {
    "colab": {
      "provenance": []
    },
    "kernelspec": {
      "name": "python3",
      "display_name": "Python 3"
    },
    "language_info": {
      "name": "python"
    }
  },
  "cells": [
    {
      "cell_type": "code",
      "source": [
        "!pip install yt-dlp"
      ],
      "metadata": {
        "colab": {
          "base_uri": "https://localhost:8080/"
        },
        "id": "btdL6nzoQoiW",
        "outputId": "71259fb5-5b6e-4495-a3c9-608a31141632"
      },
      "execution_count": null,
      "outputs": [
        {
          "output_type": "stream",
          "name": "stdout",
          "text": [
            "Collecting yt-dlp\n",
            "  Downloading yt_dlp-2024.4.9-py3-none-any.whl (3.1 MB)\n",
            "\u001b[2K     \u001b[90m━━━━━━━━━━━━━━━━━━━━━━━━━━━━━━━━━━━━━━━━\u001b[0m \u001b[32m3.1/3.1 MB\u001b[0m \u001b[31m13.0 MB/s\u001b[0m eta \u001b[36m0:00:00\u001b[0m\n",
            "\u001b[?25hCollecting brotli (from yt-dlp)\n",
            "  Downloading Brotli-1.1.0-cp310-cp310-manylinux_2_5_x86_64.manylinux1_x86_64.manylinux_2_12_x86_64.manylinux2010_x86_64.whl (3.0 MB)\n",
            "\u001b[2K     \u001b[90m━━━━━━━━━━━━━━━━━━━━━━━━━━━━━━━━━━━━━━━━\u001b[0m \u001b[32m3.0/3.0 MB\u001b[0m \u001b[31m40.3 MB/s\u001b[0m eta \u001b[36m0:00:00\u001b[0m\n",
            "\u001b[?25hRequirement already satisfied: certifi in /usr/local/lib/python3.10/dist-packages (from yt-dlp) (2024.2.2)\n",
            "Collecting mutagen (from yt-dlp)\n",
            "  Downloading mutagen-1.47.0-py3-none-any.whl (194 kB)\n",
            "\u001b[2K     \u001b[90m━━━━━━━━━━━━━━━━━━━━━━━━━━━━━━━━━━━━━━━━\u001b[0m \u001b[32m194.4/194.4 kB\u001b[0m \u001b[31m21.1 MB/s\u001b[0m eta \u001b[36m0:00:00\u001b[0m\n",
            "\u001b[?25hCollecting pycryptodomex (from yt-dlp)\n",
            "  Downloading pycryptodomex-3.20.0-cp35-abi3-manylinux_2_17_x86_64.manylinux2014_x86_64.whl (2.1 MB)\n",
            "\u001b[2K     \u001b[90m━━━━━━━━━━━━━━━━━━━━━━━━━━━━━━━━━━━━━━━━\u001b[0m \u001b[32m2.1/2.1 MB\u001b[0m \u001b[31m56.1 MB/s\u001b[0m eta \u001b[36m0:00:00\u001b[0m\n",
            "\u001b[?25hRequirement already satisfied: requests<3,>=2.31.0 in /usr/local/lib/python3.10/dist-packages (from yt-dlp) (2.31.0)\n",
            "Requirement already satisfied: urllib3<3,>=1.26.17 in /usr/local/lib/python3.10/dist-packages (from yt-dlp) (2.0.7)\n",
            "Collecting websockets>=12.0 (from yt-dlp)\n",
            "  Downloading websockets-12.0-cp310-cp310-manylinux_2_5_x86_64.manylinux1_x86_64.manylinux_2_17_x86_64.manylinux2014_x86_64.whl (130 kB)\n",
            "\u001b[2K     \u001b[90m━━━━━━━━━━━━━━━━━━━━━━━━━━━━━━━━━━━━━━━━\u001b[0m \u001b[32m130.2/130.2 kB\u001b[0m \u001b[31m17.3 MB/s\u001b[0m eta \u001b[36m0:00:00\u001b[0m\n",
            "\u001b[?25hRequirement already satisfied: charset-normalizer<4,>=2 in /usr/local/lib/python3.10/dist-packages (from requests<3,>=2.31.0->yt-dlp) (3.3.2)\n",
            "Requirement already satisfied: idna<4,>=2.5 in /usr/local/lib/python3.10/dist-packages (from requests<3,>=2.31.0->yt-dlp) (3.7)\n",
            "Installing collected packages: brotli, websockets, pycryptodomex, mutagen, yt-dlp\n",
            "Successfully installed brotli-1.1.0 mutagen-1.47.0 pycryptodomex-3.20.0 websockets-12.0 yt-dlp-2024.4.9\n"
          ]
        }
      ]
    },
    {
      "cell_type": "markdown",
      "source": [
        "## **Get Videos**"
      ],
      "metadata": {
        "id": "XsqmiwxAVGGG"
      }
    },
    {
      "cell_type": "code",
      "source": [
        "import os\n",
        "import subprocess\n",
        "from tqdm import tqdm\n",
        "\n",
        "# Define the dictionary of video names and links\n",
        "videos = {\n",
        "    \"Arsenal\": \"https://youtu.be/4kAk5m_nmqo?si=Ic08dfiZlpKSmmJu\",\n",
        "    \"Chelsea\": \"https://youtu.be/IWyG5H7P9Vs?si=uNTKPypL8J96hUei\",\n",
        "    \"Man City\": \"https://youtu.be/0N5irSbefyc?si=FyEhfHuYvJ58ezyQ\",\n",
        "    \"Spurs\": \"https://youtu.be/-GIn5wrqzis?si=vczi1nWM-y1u4dGI\",\n",
        "    \"Man United\": \"https://youtu.be/OMncxjzOeXs?si=w6Skp5vYIAhHpxfw\"\n",
        "}\n",
        "\n",
        "# Create output folder if it doesn't exist\n",
        "output_folder = '/content/drive/MyDrive/Highlights Project/v2/videos'\n",
        "os.makedirs(output_folder, exist_ok=True)\n",
        "\n",
        "# Iterate through the dictionary of videos and download the content\n",
        "for i, (video_name, link) in enumerate(videos.items(), start=1):\n",
        "    # Construct the filename based on the video name\n",
        "    filename = f'{video_name}'\n",
        "    output_file = os.path.join(output_folder, f'{filename}.%(ext)s')\n",
        "    print(f\"Downloading {filename}...\")\n",
        "    # Run yt-dlp command to download the content\n",
        "    subprocess.run(['yt-dlp', link, '-o', output_file, '--newline', '--progress'], stdout=subprocess.PIPE, universal_newlines=True)\n",
        "\n",
        "print(\"Downloaded all the videos.\")"
      ],
      "metadata": {
        "colab": {
          "base_uri": "https://localhost:8080/"
        },
        "id": "ThTzFE6wPrqi",
        "outputId": "7e0b0be9-e7fb-4a70-c366-20d93d4e948f"
      },
      "execution_count": null,
      "outputs": [
        {
          "output_type": "stream",
          "name": "stdout",
          "text": [
            "Downloading Arsenal...\n",
            "Downloading Chelsea...\n",
            "Downloading Man City...\n",
            "Downloading Spurs...\n",
            "Downloading Man United...\n",
            "Downloaded all the videos.\n"
          ]
        }
      ]
    },
    {
      "cell_type": "markdown",
      "source": [
        "## **Turn Videos into frames**"
      ],
      "metadata": {
        "id": "Zp8ApSu4VYZ4"
      }
    },
    {
      "cell_type": "code",
      "source": [
        "import cv2\n",
        "import os\n",
        "from tqdm import tqdm\n",
        "\n",
        "def video_to_frames(video_path, output_folder):\n",
        "    # Create output folder if it doesn't exist\n",
        "    if not os.path.exists(output_folder):\n",
        "        os.makedirs(output_folder)\n",
        "\n",
        "    # Open the video file\n",
        "    video_capture = cv2.VideoCapture(video_path)\n",
        "    success, image = video_capture.read()\n",
        "    frame_count = 0\n",
        "\n",
        "    # Get total frames in the video\n",
        "    total_frames = int(video_capture.get(cv2.CAP_PROP_FRAME_COUNT))\n",
        "\n",
        "    # Loop through the video frames\n",
        "    with tqdm(total=total_frames, desc=f'Converting {video_path}', unit='frames') as pbar:\n",
        "        while success:\n",
        "            # Save frame as JPEG file\n",
        "            frame_name = f\"{output_folder}/frame_{frame_count:04d}.jpg\"\n",
        "            cv2.imwrite(frame_name, image)\n",
        "\n",
        "            # Read next frame\n",
        "            success, image = video_capture.read()\n",
        "            frame_count += 1\n",
        "            pbar.update(1)\n",
        "\n",
        "    # Release video capture object\n",
        "    video_capture.release()\n",
        "\n",
        "# Folder containing video files\n",
        "videos_folder = \"/content/drive/MyDrive/Highlights Project/v2/videos\"\n",
        "\n",
        "# Folder to save frames\n",
        "output_root_folder = \"/content/drive/MyDrive/Highlights Project/v2/frames\"\n",
        "\n",
        "# Loop through each video file in the videos folder\n",
        "for video_file in os.listdir(videos_folder):\n",
        "    video_path = os.path.join(videos_folder, video_file)\n",
        "    video_name = os.path.splitext(video_file)[0]\n",
        "    output_folder = os.path.join(output_root_folder, video_name)\n",
        "\n",
        "    # Create a new folder within frames folder for every video\n",
        "    output_folder = os.path.join(output_root_folder, video_name)\n",
        "\n",
        "    # Check if the output folder already exists, if not, create it\n",
        "    if not os.path.exists(output_folder):\n",
        "        os.makedirs(output_folder)\n",
        "    video_to_frames(video_path, output_folder)"
      ],
      "metadata": {
        "id": "G8KkswqUVbad"
      },
      "execution_count": null,
      "outputs": []
    },
    {
      "cell_type": "code",
      "source": [
        "from google.colab import drive\n",
        "drive.mount('/content/drive')"
      ],
      "metadata": {
        "id": "ZKj9NMzsVrFv",
        "colab": {
          "base_uri": "https://localhost:8080/"
        },
        "outputId": "b31ba1cc-82aa-4d32-ab64-bb53b1c46eed"
      },
      "execution_count": null,
      "outputs": [
        {
          "output_type": "stream",
          "name": "stdout",
          "text": [
            "Mounted at /content/drive\n"
          ]
        }
      ]
    }
  ]
}